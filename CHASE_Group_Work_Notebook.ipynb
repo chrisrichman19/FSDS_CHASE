{
 "cells": [
  {
   "cell_type": "markdown",
   "id": "8ae669a1aad2184a",
   "metadata": {},
   "source": [
    "CHASE Group Work\n",
    "\n",
    "We, CHASE pledge our honour that the work presented in this assessment is our own. Where information has been derived from other sources, we confirm that this has been indicated in the work. Where a Large Language Model such as ChatGPT has been used we confirm that we have made its contribution to the final submission clear.\n",
    "\n",
    "Date: 2024/11/17\n",
    "\n",
    "Student Numbers: \n",
    "\n",
    "Stefan - 24097459\n",
    "\n",
    "Hania - 22218425\n",
    "\n",
    "Ewan - 24081453\n",
    "\n",
    "Chris - 24217725\n",
    "\n",
    "Aila - 24223425"
   ]
  },
  {
   "cell_type": "markdown",
   "id": "3e92e3b99fdb3264",
   "metadata": {},
   "source": [
    "Brief Group Reflection\n",
    "\n",
    "What Went Well\tWhat Was Challenging\n",
    "\n",
    "A\n",
    "\t\n",
    "B\n",
    "\n",
    "C\n",
    "\t\n",
    "D"
   ]
  },
  {
   "attachments": {},
   "cell_type": "markdown",
   "id": "38451864cdd3c199",
   "metadata": {},
   "source": [
    "Response to Questions: \n",
    "\n",
    "1. Who collected the InsideAirbnb data? (2 points) \n",
    "\n",
    "The InsideAirbnb was collected by Murray Cox, Tom Slee, and a team of collaborators. Murray Cox is an Australian community artist, activist and photo- journalist who \\\"uses data, media, and technology for social change\\\" (Inside Airbnb). Cox is supported by a team of data journalists, housing activists, and artists working towards the empowerment of communities through data to understand, decide and control the role of renting residential homes to tourists. (Inside Airbnb).\n",
    "\n",
    "\n",
    "2. Why did they collect the InsideAirbnb data? (4 points)\n",
    "\n",
    "Murray Cox and Tom Slee collected the InsideAirbnb data to critically assess the impact of Airbnb on housing markets, to provide independent publicly available data, and to facilitate the improved understanding of city authorities and regulatory bodies. Motivated by an observation of increasing entire-home listings and \\\"multi-lister\\\" hosts, Cox and Slee aimed to challenge Airbnb’s portrayal as a platform for casual home sharing, revealing that much of its revenue comes from commercial operators who are squeezing housing supply, raising rents, and pushing long-term residents out (Bloomberg 2019). Cox and Slee sought to understand how Airbnb affects housing affordability and availability, particularly in cities like New York, by analysing the prevalence of \\\"multi-lister hosts\\\"—individuals or companies managing multiple listings—which contributes to housing challenges, economic, and racial inequalities. By creating independent datasets, they also sought to address the limitations of relying on Airbnb's selective and potentially biased data releases, equipping researchers, journalists, policymakers, and housing advocates with reliable information to evaluate Airbnb's impact and advocate for better regulation.\n",
    "\n",
    "\n",
    "NOTE!!! \n",
    "Remaining 2 points from Q2 will probably come from a graph. Possibly a general graph reading data from all days of InsideAirbnb and showing the anomalies. \n",
    " "
   ]
  },
  {
   "cell_type": "markdown",
   "id": "963dc88961912f52",
   "metadata": {},
   "source": [
    "3. How did they collect it? (5 points)"
   ]
  },
  {
   "attachments": {},
   "cell_type": "markdown",
   "id": "4b813c43bb8eff57",
   "metadata": {},
   "source": [
    "Data was collected programatically using public information from Airbnb's website. There were two main stages of data collection: \n",
    "1. Visiting Airbnb search website and locate listings for chosen city.\n",
    "2. Visiting each site of the specific listing to collect detail information about it.\n",
    "\n",
    "Data is periodically scraped for each location from the Airbnb website using a Python script (Slee, T.). Adamiak, C., Szyda, B., Dubownik, A., & García-Álvarez, D. (2019) explain that \n",
    "\n",
    "> The script accesses the Airbnb website, searching for listings located within a given set of coordinates and saves the following information about the resulting offers in a database: listing type, approximate address, number of reviews and average review score, capacity, numbers of bedrooms and bathrooms, price, and coordinates. \n",
    "    \n",
    "Only if a listing is on the Airbnb website at the time of the scraping will the data be included. Each scraping and subsequent dataset replaces all previous datasets for that location, though data for the previous 12 months is available for free access on the Inside Airbnb website and archived data can be accessed at request.\n",
    "\n",
    "\n",
    "(Slee, T. Data Collection for Airbnb Listings. Available online: https://github.com/tomslee/airbnb-data-collection (accessed on 22 November 2024).)\n",
    "\n",
    "(Adamiak, C., Szyda, B., Dubownik, A., & García-Álvarez, D. (2019). Airbnb Offer in Spain—Spatial Analysis of the Pattern and Determinants of Its Distribution. ISPRS International Journal of Geo-Information, 8(3), 155. https://doi.org/10.3390/ijgi8030155)"
   ]
  },
  {
   "cell_type": "code",
   "execution_count": null,
   "id": "f111f9db-eb87-4992-a81e-22c74d19f767",
   "metadata": {},
   "outputs": [],
   "source": []
  }
 ],
 "metadata": {
  "kernelspec": {
   "display_name": "Python (base)",
   "language": "python",
   "name": "base"
  },
  "language_info": {
   "codemirror_mode": {
    "name": "ipython",
    "version": 3
   },
   "file_extension": ".py",
   "mimetype": "text/x-python",
   "name": "python",
   "nbconvert_exporter": "python",
   "pygments_lexer": "ipython3",
   "version": "3.11.9"
  }
 },
 "nbformat": 4,
 "nbformat_minor": 5
}
