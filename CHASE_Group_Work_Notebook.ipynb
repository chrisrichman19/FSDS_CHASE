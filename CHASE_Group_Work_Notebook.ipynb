{
 "cells": [
  {
   "cell_type": "markdown",
   "id": "8ae669a1aad2184a",
   "metadata": {},
   "source": [
    "CHASE Group Work\n",
    "\n",
    "We, CHASE pledge our honour that the work presented in this assessment is our own. Where information has been derived from other sources, we confirm that this has been indicated in the work. Where a Large Language Model such as ChatGPT has been used we confirm that we have made its contribution to the final submission clear.\n",
    "\n",
    "Date: 2024/11/17\n",
    "\n",
    "Student Numbers: \n",
    "\n",
    "Stefan - 24097459\n",
    "\n",
    "Hania - 22218425\n",
    "\n",
    "Ewan - 24081453\n",
    "\n",
    "Chris - 24217725\n",
    "\n",
    "Aila - 24223425"
   ]
  },
  {
   "cell_type": "markdown",
   "id": "3e92e3b99fdb3264",
   "metadata": {},
   "source": [
    "Brief Group Reflection\n",
    "\n",
    "What Went Well\tWhat Was Challenging\n",
    "\n",
    "A\n",
    "\t\n",
    "B\n",
    "\n",
    "C\n",
    "\t\n",
    "D"
   ]
  },
  {
   "cell_type": "markdown",
   "id": "38451864cdd3c199",
   "metadata": {},
   "source": [
    "Response to Questions: \n",
    "\n",
    "1. Who collected the InsideAirbnb data? (2 points) \n",
    "\n",
    "The InsideAirbnb was collected by Murray Cox and Tom Slee. While collecting the data, both Murray and Tom had two different approaches on data collection. The data was later combined to create a data analysis on InsideAirbnb. \n",
    "\n",
    "\n",
    "2. Why did they collect the InsideAirbnb data? (4 points)\n",
    "\n",
    "Murray Cox and Tom Slee collected the InsideAirbnb data to critically assess the impact of Airbnb on housing markets, challenge the company's narrative, and provide independent data for analysis. They sought to understand how Airbnb affects housing affordability and availability, particularly in cities like New York, by analysing the prevalence of \"multi-lister hosts\"—individuals or companies managing multiple listings—which contributes to housing challenges. Additionally, they aimed to challenge Airbnb’s portrayal as a platform for casual home sharing, revealing that much of its revenue comes from commercial operators effectively running unofficial hotels. By creating independent datasets, they also sought to address the limitations of relying on Airbnb's selective and potentially biased data releases, equipping researchers, journalists, policymakers, and housing advocates with reliable information to evaluate Airbnb's impact and advocate for better regulation.\n",
    "\n",
    "\n",
    "\n",
    "NOTE!!! \n",
    "Remaining 2 points from Q2 will probably come from a graph. Possibly a general graph reading data from all days of InsideAirbnb and showing the anomalies. \n",
    " "
   ]
  },
  {
   "cell_type": "markdown",
   "id": "963dc88961912f52",
   "metadata": {},
   "source": [
    "3. How did they collect it? (5 points)"
   ]
  },
  {
   "cell_type": "markdown",
   "id": "4b813c43bb8eff57",
   "metadata": {},
   "source": [
    "Data was collected programatically using public information from Airbnb's website. There were two main stages of data collection: \n",
    "1. Visiting Airbnb search website and locate listings for chosen city.\n",
    "2. Visiting each site of the specific listing to collect detail information about it."
   ]
  },
  {
   "cell_type": "code",
   "execution_count": null,
   "id": "f111f9db-eb87-4992-a81e-22c74d19f767",
   "metadata": {},
   "outputs": [],
   "source": []
  }
 ],
 "metadata": {
  "kernelspec": {
   "display_name": "Python (base)",
   "language": "python",
   "name": "base"
  },
  "language_info": {
   "codemirror_mode": {
    "name": "ipython",
    "version": 3
   },
   "file_extension": ".py",
   "mimetype": "text/x-python",
   "name": "python",
   "nbconvert_exporter": "python",
   "pygments_lexer": "ipython3",
   "version": "3.11.9"
  }
 },
 "nbformat": 4,
 "nbformat_minor": 5
}
